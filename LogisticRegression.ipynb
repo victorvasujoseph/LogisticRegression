{
 "cells": [
  {
   "cell_type": "code",
   "execution_count": 9,
   "id": "f6dacecc-4ecd-4bc7-9bb3-66710e86a406",
   "metadata": {},
   "outputs": [],
   "source": [
    "import pandas as pd\n",
    "from sklearn.model_selection import train_test_split\n",
    "from sklearn.linear_model import LogisticRegression\n",
    "from sklearn.metrics import classification_report, confusion_matrix\n",
    "from sklearn.pipeline import Pipeline\n",
    "from sklearn.preprocessing import StandardScaler\n",
    "import matplotlib.pyplot as plt\n",
    "import seaborn as sns"
   ]
  },
  {
   "cell_type": "code",
   "execution_count": 3,
   "id": "00bd336a-ba82-44be-8e1c-4330c3049263",
   "metadata": {},
   "outputs": [],
   "source": [
    "# Load the dataset\n",
    "file_path = 'data/RealEstate.xlsx'\n",
    "real_estate_data = pd.read_excel(file_path)"
   ]
  },
  {
   "cell_type": "code",
   "execution_count": 4,
   "id": "1ebe6967-88f7-4f06-9187-13b43a57e9bd",
   "metadata": {},
   "outputs": [
    {
     "data": {
      "text/html": [
       "<div>\n",
       "<style scoped>\n",
       "    .dataframe tbody tr th:only-of-type {\n",
       "        vertical-align: middle;\n",
       "    }\n",
       "\n",
       "    .dataframe tbody tr th {\n",
       "        vertical-align: top;\n",
       "    }\n",
       "\n",
       "    .dataframe thead th {\n",
       "        text-align: right;\n",
       "    }\n",
       "</style>\n",
       "<table border=\"1\" class=\"dataframe\">\n",
       "  <thead>\n",
       "    <tr style=\"text-align: right;\">\n",
       "      <th></th>\n",
       "      <th>No</th>\n",
       "      <th>X1 transaction date</th>\n",
       "      <th>X2 house age</th>\n",
       "      <th>X3 distance to the nearest MRT station</th>\n",
       "      <th>X4 number of convenience stores</th>\n",
       "      <th>X5 latitude</th>\n",
       "      <th>X6 longitude</th>\n",
       "      <th>Y house price of unit area</th>\n",
       "    </tr>\n",
       "  </thead>\n",
       "  <tbody>\n",
       "    <tr>\n",
       "      <th>0</th>\n",
       "      <td>1</td>\n",
       "      <td>2012.916667</td>\n",
       "      <td>32.0</td>\n",
       "      <td>84.87882</td>\n",
       "      <td>10</td>\n",
       "      <td>24.98298</td>\n",
       "      <td>121.54024</td>\n",
       "      <td>37.9</td>\n",
       "    </tr>\n",
       "    <tr>\n",
       "      <th>1</th>\n",
       "      <td>2</td>\n",
       "      <td>2012.916667</td>\n",
       "      <td>19.5</td>\n",
       "      <td>306.59470</td>\n",
       "      <td>9</td>\n",
       "      <td>24.98034</td>\n",
       "      <td>121.53951</td>\n",
       "      <td>42.2</td>\n",
       "    </tr>\n",
       "    <tr>\n",
       "      <th>2</th>\n",
       "      <td>3</td>\n",
       "      <td>2013.583333</td>\n",
       "      <td>13.3</td>\n",
       "      <td>561.98450</td>\n",
       "      <td>5</td>\n",
       "      <td>24.98746</td>\n",
       "      <td>121.54391</td>\n",
       "      <td>47.3</td>\n",
       "    </tr>\n",
       "    <tr>\n",
       "      <th>3</th>\n",
       "      <td>4</td>\n",
       "      <td>2013.500000</td>\n",
       "      <td>13.3</td>\n",
       "      <td>561.98450</td>\n",
       "      <td>5</td>\n",
       "      <td>24.98746</td>\n",
       "      <td>121.54391</td>\n",
       "      <td>54.8</td>\n",
       "    </tr>\n",
       "    <tr>\n",
       "      <th>4</th>\n",
       "      <td>5</td>\n",
       "      <td>2012.833333</td>\n",
       "      <td>5.0</td>\n",
       "      <td>390.56840</td>\n",
       "      <td>5</td>\n",
       "      <td>24.97937</td>\n",
       "      <td>121.54245</td>\n",
       "      <td>43.1</td>\n",
       "    </tr>\n",
       "  </tbody>\n",
       "</table>\n",
       "</div>"
      ],
      "text/plain": [
       "   No  X1 transaction date  X2 house age  \\\n",
       "0   1          2012.916667          32.0   \n",
       "1   2          2012.916667          19.5   \n",
       "2   3          2013.583333          13.3   \n",
       "3   4          2013.500000          13.3   \n",
       "4   5          2012.833333           5.0   \n",
       "\n",
       "   X3 distance to the nearest MRT station  X4 number of convenience stores  \\\n",
       "0                                84.87882                               10   \n",
       "1                               306.59470                                9   \n",
       "2                               561.98450                                5   \n",
       "3                               561.98450                                5   \n",
       "4                               390.56840                                5   \n",
       "\n",
       "   X5 latitude  X6 longitude  Y house price of unit area  \n",
       "0     24.98298     121.54024                        37.9  \n",
       "1     24.98034     121.53951                        42.2  \n",
       "2     24.98746     121.54391                        47.3  \n",
       "3     24.98746     121.54391                        54.8  \n",
       "4     24.97937     121.54245                        43.1  "
      ]
     },
     "execution_count": 4,
     "metadata": {},
     "output_type": "execute_result"
    }
   ],
   "source": [
    "real_estate_data.head()"
   ]
  },
  {
   "cell_type": "code",
   "execution_count": 6,
   "id": "5aee47fe-8243-4cbf-bf68-116db2e4f300",
   "metadata": {},
   "outputs": [],
   "source": [
    "# Create a new binary column 'Price Category' based on the median price\n",
    "median_price = real_estate_data['Y house price of unit area'].median()\n",
    "real_estate_data['Price Category'] = (real_estate_data['Y house price of unit area'] >= median_price).astype(int)"
   ]
  },
  {
   "cell_type": "code",
   "execution_count": 7,
   "id": "aa435914-0f24-40d1-ad72-1f2a8172b6f1",
   "metadata": {},
   "outputs": [],
   "source": [
    "# Features and target\n",
    "features = real_estate_data[['X2 house age', 'X3 distance to the nearest MRT station', 'X4 number of convenience stores', 'X5 latitude', 'X6 longitude']]\n",
    "target = real_estate_data['Price Category']"
   ]
  },
  {
   "cell_type": "code",
   "execution_count": 12,
   "id": "0e59c38c-7ff3-480e-9809-d28ce52e8142",
   "metadata": {},
   "outputs": [],
   "source": [
    "# Split the data into training and testing sets\n",
    "X_train, X_test, y_train, y_test = train_test_split(features, target, test_size=0.3, random_state=42)"
   ]
  },
  {
   "cell_type": "code",
   "execution_count": 13,
   "id": "55ad4232-0f2c-48ac-9a76-4acf00af7824",
   "metadata": {},
   "outputs": [],
   "source": [
    "# Define the pipeline with standard scaling and logistic regression\n",
    "pipeline = Pipeline([\n",
    "    ('scaler', StandardScaler()),\n",
    "    ('logreg', LogisticRegression(max_iter=1000))\n",
    "])"
   ]
  },
  {
   "cell_type": "code",
   "execution_count": 14,
   "id": "65471ac5-fb36-481d-8a1c-68ec1a275502",
   "metadata": {},
   "outputs": [
    {
     "name": "stdout",
     "output_type": "stream",
     "text": [
      "              precision    recall  f1-score   support\n",
      "\n",
      "           0       0.93      0.72      0.81        72\n",
      "           1       0.71      0.92      0.80        53\n",
      "\n",
      "    accuracy                           0.81       125\n",
      "   macro avg       0.82      0.82      0.81       125\n",
      "weighted avg       0.84      0.81      0.81       125\n",
      "\n"
     ]
    },
    {
     "data": {
      "image/png": "[encoded data removed]",
      "text/plain": [
       "<Figure size 800x600 with 2 Axes>"
      ]
     },
     "metadata": {},
     "output_type": "display_data"
    }
   ],
   "source": [
    "# Fit the pipeline on the training data\n",
    "pipeline.fit(X_train, y_train)\n",
    "\n",
    "# Predict the target values for the test set using the pipeline\n",
    "y_pred_pipeline = pipeline.predict(X_test)\n",
    "\n",
    "# Evaluate the model\n",
    "classification_rep_pipeline = classification_report(y_test, y_pred_pipeline)\n",
    "confusion_mat_pipeline = confusion_matrix(y_test, y_pred_pipeline)\n",
    "\n",
    "# Print classification report\n",
    "print(classification_rep_pipeline)\n",
    "\n",
    "# Plot confusion matrix\n",
    "plt.figure(figsize=(8, 6))\n",
    "sns.heatmap(confusion_mat_pipeline, annot=True, fmt='d', cmap='Blues', xticklabels=['Low Price', 'High Price'], yticklabels=['Low Price', 'High Price'])\n",
    "plt.xlabel('Predicted')\n",
    "plt.ylabel('Actual')\n",
    "plt.title('Confusion Matrix')\n",
    "plt.show()"
   ]
  },
  {
   "cell_type": "markdown",
   "id": "890d7e5c-3311-4e2f-827c-322ec983eb5a",
   "metadata": {},
   "source": [
    "Metrics Overview:\n",
    "\n",
    "Precision: The ratio of true positive predictions to the total number of positive predictions (both true positives and false positives).\n",
    "Recall: The ratio of true positive predictions to the total number of actual positives (true positives and false negatives).\n",
    "F1-Score: The harmonic mean of precision and recall, providing a single measure of a model's performance.\n",
    "Support: The number of actual occurrences of each class in the test set.\n",
    "Detailed Interpretation:\n",
    "Class 0 (Low Price):\n",
    "\n",
    "Precision: 0.93\n",
    "93% of the properties predicted to be in the Low Price category were correctly classified.\n",
    "Recall: 0.72\n",
    "72% of the actual Low Price properties were correctly identified.\n",
    "F1-Score: 0.81\n",
    "This score balances precision and recall, showing good overall performance for this class.\n",
    "Class 1 (High Price):\n",
    "\n",
    "Precision: 0.71\n",
    "71% of the properties predicted to be in the High Price category were correctly classified.\n",
    "Recall: 0.92\n",
    "92% of the actual High Price properties were correctly identified.\n",
    "F1-Score: 0.80\n",
    "This indicates a strong performance, especially in identifying High Price properties correctly.\n",
    "Overall Accuracy: 0.81\n",
    "\n",
    "The model correctly classified 81% of the total properties.\n",
    "Macro Avg and Weighted Avg:\n",
    "\n",
    "Macro Avg: Averages precision, recall, and F1-score across classes, giving equal weight to each class.\n",
    "Weighted Avg: Averages these metrics, weighted by the number of instances in each class, providing an overall performance measure that takes class imbalance into account.\n",
    "Business Implications:\n",
    "High Precision for Low Price: A high precision in the Low Price category suggests that the model is conservative in predicting Low Price properties, meaning it makes fewer mistakes in overestimating a property's value.\n",
    "High Recall for High Price: The high recall in the High Price category indicates that the model is good at identifying most of the properties that are truly high-priced, which is valuable for targeting high-value investments or marketing efforts.\n",
    "Overall Performance: The balanced F1-scores and overall accuracy show that the model is fairly reliable for this classification task, providing useful insights for decision-making in real estate investments and pricing strategies.\n",
    "These results suggest that the logistic regression model, with the preprocessing steps included in the pipeline, provides a robust tool for predicting property price categories based on the available features."
   ]
  }
 ],
 "metadata": {
  "kernelspec": {
   "display_name": "Python 3 (ipykernel)",
   "language": "python",
   "name": "python3"
  },
  "language_info": {
   "codemirror_mode": {
    "name": "ipython",
    "version": 3
   },
   "file_extension": ".py",
   "mimetype": "text/x-python",
   "name": "python",
   "nbconvert_exporter": "python",
   "pygments_lexer": "ipython3",
   "version": "3.12.4"
  }
 },
 "nbformat": 4,
 "nbformat_minor": 5
}
